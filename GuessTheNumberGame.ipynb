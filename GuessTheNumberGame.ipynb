{
 "cells": [
  {
   "cell_type": "code",
   "execution_count": 15,
   "id": "a2474adf-b987-41de-b1e8-135a9c284e8d",
   "metadata": {},
   "outputs": [
    {
     "name": "stdout",
     "output_type": "stream",
     "text": [
      "I am thinking of a number between 1 and 20. You have 6 chances to guess correctly. Good luck!\n",
      "Take a guess\n"
     ]
    },
    {
     "name": "stdin",
     "output_type": "stream",
     "text": [
      " 8\n"
     ]
    },
    {
     "name": "stdout",
     "output_type": "stream",
     "text": [
      "Your guess is too low\n",
      "Take a guess\n"
     ]
    },
    {
     "name": "stdin",
     "output_type": "stream",
     "text": [
      " 18\n"
     ]
    },
    {
     "name": "stdout",
     "output_type": "stream",
     "text": [
      "Your guess is too high\n",
      "Take a guess\n"
     ]
    },
    {
     "name": "stdin",
     "output_type": "stream",
     "text": [
      " 15\n"
     ]
    },
    {
     "name": "stdout",
     "output_type": "stream",
     "text": [
      "Your guess is too high\n",
      "Take a guess\n"
     ]
    },
    {
     "name": "stdin",
     "output_type": "stream",
     "text": [
      " 12\n"
     ]
    },
    {
     "name": "stdout",
     "output_type": "stream",
     "text": [
      "Your guess is too high\n",
      "Take a guess\n"
     ]
    },
    {
     "name": "stdin",
     "output_type": "stream",
     "text": [
      " 10\n"
     ]
    },
    {
     "name": "stdout",
     "output_type": "stream",
     "text": [
      "Your guess is too low\n",
      "Take a guess\n"
     ]
    },
    {
     "name": "stdin",
     "output_type": "stream",
     "text": [
      " 11\n"
     ]
    },
    {
     "name": "stdout",
     "output_type": "stream",
     "text": [
      "You absolute genius! Well done\n"
     ]
    }
   ],
   "source": [
    "#This is the guess the number game\n",
    "import random\n",
    "secretnumber = random.randint(1, 20)\n",
    "print(\"I am thinking of a number between 1 and 20. You have 6 chances to guess correctly. Good luck!\")\n",
    "\n",
    "#Ask the player to guess up to 6 times\n",
    "for guessesTaken in range(1, 7):\n",
    "    print(\"Take a guess\")\n",
    "    guess = int(input())\n",
    "    \n",
    "    if guess < secretnumber:\n",
    "        print(\"Your guess is too low\")\n",
    "    elif guess > secretnumber: \n",
    "        print(\"Your guess is too high\")\n",
    "        \n",
    "    else:\n",
    "        break #This condition is the correct guess.\n",
    "        \n",
    "if guess == secretnumber:\n",
    "    print(\"You absolute genius! Well done\")\n",
    "    \n",
    "else:\n",
    "    print(\"\")\n",
    "    print(\"Better luck next time! I was thinking of \" + (str(secretnumber)) + \".\")"
   ]
  },
  {
   "cell_type": "code",
   "execution_count": null,
   "id": "878b8b1e-e714-454b-b303-756385f09eba",
   "metadata": {},
   "outputs": [],
   "source": []
  }
 ],
 "metadata": {
  "kernelspec": {
   "display_name": "Python 3 (ipykernel)",
   "language": "python",
   "name": "python3"
  },
  "language_info": {
   "codemirror_mode": {
    "name": "ipython",
    "version": 3
   },
   "file_extension": ".py",
   "mimetype": "text/x-python",
   "name": "python",
   "nbconvert_exporter": "python",
   "pygments_lexer": "ipython3",
   "version": "3.9.13"
  }
 },
 "nbformat": 4,
 "nbformat_minor": 5
}
